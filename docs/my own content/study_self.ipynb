{
 "cells": [
  {
   "cell_type": "markdown",
   "metadata": {},
   "source": [
    "pip 安装库\n",
    "\n",
    "pip install -i https://mirrors.tuna.tsinghua.edu.cn/pypi/web/simple <some-package>"
   ]
  },
  {
   "cell_type": "markdown",
   "metadata": {},
   "source": [
    "**一切皆对象**"
   ]
  },
  {
   "cell_type": "code",
   "execution_count": 521,
   "metadata": {},
   "outputs": [
    {
     "name": "stdout",
     "output_type": "stream",
     "text": [
      "<class 'str'>\n"
     ]
    }
   ],
   "source": [
    "x = -3\n",
    "\n",
    "s1 = \"hello world\" # single quotes and double quotes are same\n",
    "s2 = 'hello world'\n",
    "True + 1 == 2 # True is 1, False is 0\n",
    "\n",
    "print(type(s1)) # 请注意，不要给字符串起名为 str，否则 str 对象会被篡改\n"
   ]
  },
  {
   "cell_type": "markdown",
   "metadata": {},
   "source": [
    "**内置函数**\n",
    "\n",
    "在 C/C++ 中，很多常用函数都分散在不同的头文件中，但 Python 的解释器内置了许多实用且通用的函数，你可以直接使用而无需注意它们的存在，但这也带来了小问题，这些内置函数的名称多为常见单词，你需要注意避免给自己的变量起相同的名字，否则可能会产生奇怪的结果。\n",
    "\n",
    "正如我们所看到的，Python 内置有整数、浮点数、字符串和布尔类型，可以类比为 C++ 中的 int，float，string 和 bool。但有一些明显的不同之处，比如没有 char 字符类型，也没有 double 类型（但 float 其实对应 C 中的双精度），如果需要更精确的浮点运算，可以使用标准库中的 decimal 模块，如果需要用到复数，Python 还内置了 complex 类型（而这也意味着最好不要给变量起名为 complex）。\n",
    "\n",
    "可以看到这些类型都以 class 开头，而这正是 Python 不同于 C++ 的关键之处，Python 程序中的所有数据都是由对象或对象间关系来表示的，函数是对象，类型本身也是对象："
   ]
  },
  {
   "cell_type": "code",
   "execution_count": 522,
   "metadata": {},
   "outputs": [
    {
     "data": {
      "text/plain": [
       "builtin_function_or_method"
      ]
     },
     "execution_count": 522,
     "metadata": {},
     "output_type": "execute_result"
    }
   ],
   "source": [
    "type(int) # <class 'type'>\n",
    "type(str) # <class 'type'>\n",
    "type(type) # <class 'type'>\n",
    "type(None) # <class 'NoneType'>\n",
    "type(pow) # <class 'builtin_function_or_method'>\n"
   ]
  },
  {
   "cell_type": "markdown",
   "metadata": {},
   "source": [
    "**数字运算**\n",
    "\n",
    "可以把你系统里装的 Python 当作一个多用计算器\n",
    "\n",
    "在交互模式下，你可以在提示符 >>> 后面输入一个表达式，然后按回车键执行。\n",
    "\n",
    "除法运算（/）永远返回浮点类型, 而整数除法（//）则会向下取整,% 运算符返回余数, ** 运算符表示乘方, 也可以 pow(a, b, mod)"
   ]
  },
  {
   "cell_type": "markdown",
   "metadata": {},
   "source": [
    "**基本输入输出**\n",
    "\n",
    "Python 中的输入输出主要通过内置函数 input() 和 print() 完成"
   ]
  },
  {
   "cell_type": "code",
   "execution_count": 523,
   "metadata": {},
   "outputs": [],
   "source": [
    "# s = input('请输入一串数字: ')\n",
    "# print(s)"
   ]
  },
  {
   "cell_type": "markdown",
   "metadata": {},
   "source": [
    "**字符串**\n",
    "\n",
    "Python 3 提供了强大的基于 Unicode 的字符串类型，使用起来和 C++ 中的 string 类似，一些概念如转义字符也都相通，除了加号拼接和索引访问，还额外支持数乘 * 重复字符串，和 in 操作符。"
   ]
  },
  {
   "cell_type": "code",
   "execution_count": 524,
   "metadata": {},
   "outputs": [
    {
     "name": "stdout",
     "output_type": "stream",
     "text": [
      "oiwiki\n",
      "True\n",
      "oowiki\n"
     ]
    }
   ],
   "source": [
    "s1 = \"o\"\n",
    "s1 += \"iwiki\"\n",
    "print(s1)\n",
    "print(\"oi\" in s1)\n",
    "s2 = s1[0] * 2 + s1[2:]\n",
    "print(s2)\n"
   ]
  },
  {
   "cell_type": "markdown",
   "metadata": {},
   "source": [
    "Python 支持多种复合数据类型，可将不同值组合在一起。最常用的 list，类型是用方括号标注、逗号分隔的一组值。例如，[1, 2, 3] 和 ['a','b','c'] 都是列表。\n",
    "\n",
    "除了索引，字符串还支持切片，它的设计非常精妙，格式为 s[左闭索引:右开索引:步长]"
   ]
  },
  {
   "cell_type": "markdown",
   "metadata": {},
   "source": [
    "在最新的 Python 3 版本中，字符串是以 Unicode 编码的，也就是说，Python 的字符串支持多语言。在 Python 中，可以对一个 Unicode 字符使用内置函数 ord() 将其转换为对应的 Unicode 编码，逆向的转换使用内置函数 chr()。C/C++ 中 char 类型也可以和 对应的 ASCII 码互转。\n",
    "\n",
    "如果想把数字转换成对应的字符串，可以使用内置函数 str()，反之可以使用 int() 和 float()，你可以类比为 C/C++ 中的强制类型转换，但括号不是加在类型上而是作为函数的一部分括住参数。"
   ]
  },
  {
   "cell_type": "code",
   "execution_count": 525,
   "metadata": {},
   "outputs": [
    {
     "name": "stdout",
     "output_type": "stream",
     "text": [
      "20013\n",
      "中\n",
      "20013\n"
     ]
    }
   ],
   "source": [
    "print(ord('中'))\n",
    "print(chr(20013))\n",
    "print(str(20013))"
   ]
  },
  {
   "cell_type": "markdown",
   "metadata": {},
   "source": [
    "**创建数组**\n",
    "\n",
    "接近 C++ 中的 vector\n",
    "\n",
    "**使用 list**\n",
    "\n",
    "列表（list）大概是 Python 中最常用也最强大的序列类型，列表中可以存放任意类型的元素，包括嵌套的列表，这符合数据结构中「广义表」的定义。请注意不要将其与 C++ STL 中的双向链表 list 混淆。"
   ]
  },
  {
   "cell_type": "code",
   "execution_count": 526,
   "metadata": {},
   "outputs": [
    {
     "name": "stdout",
     "output_type": "stream",
     "text": [
      "[]\n",
      "[1, 2, 3, 4, 5]\n",
      "[1, 2, 3, 4, 5, 9]\n",
      "[1, 2, 3, 4, 5]\n",
      "[1, 1, 2, 3, 4, 5]\n",
      "[1, 2, 3, 4, 5]\n",
      "[5, 4, 3, 2, 1]\n",
      "[5, 4, 3, 2, 1]\n",
      "[1, 2, 3, 4, 5]\n",
      "[1, 2, 3, 4, 5, 6, 7, 8]\n",
      "4\n",
      "[]\n"
     ]
    }
   ],
   "source": [
    "print([])\n",
    "nums = [1, 2, 3, 4, 5]\n",
    "print(nums)\n",
    "\n",
    "nums.append(nums[-1] + nums[-2])\n",
    "print(nums)\n",
    "\n",
    "nums.pop()\n",
    "print(nums)\n",
    "\n",
    "nums.insert(0, 1)\n",
    "print(nums)\n",
    "\n",
    "nums.remove(1) # remove the first occurrence of 1\n",
    "print(nums)\n",
    "\n",
    "nums.reverse()\n",
    "print(nums)\n",
    "\n",
    "sorted(nums) # 获得排序后的列表\n",
    "print(nums) # 原列表没变\n",
    "\n",
    "nums.sort() # 直接对原列表进行排序\n",
    "print(nums)\n",
    "\n",
    "nums.extend([6, 7, 8]) # 在列表末尾添加元素\n",
    "print(nums)\n",
    "\n",
    "nums.count(2) # 统计元素2出现的次数\n",
    "print(nums.index(5)) # 找出元素5的索引\n",
    "\n",
    "nums.clear() # 清空列表\n",
    "print(nums)"
   ]
  },
  {
   "cell_type": "code",
   "execution_count": 527,
   "metadata": {},
   "outputs": [
    {
     "name": "stdout",
     "output_type": "stream",
     "text": [
      "[65, 66, 67, 68, 69]\n",
      "['A', 'B', 'C', 'D', 'E']\n",
      "ABCDE\n"
     ]
    },
    {
     "data": {
      "text/plain": [
       "'abcde'"
      ]
     },
     "execution_count": 527,
     "metadata": {},
     "output_type": "execute_result"
    }
   ],
   "source": [
    "# 建立一个 [65, 70) 区间上的整数数组，range 也是一种类型，可看作左闭右开区间，第三个参数为步长可省略\n",
    "a = list(range(65, 70))\n",
    "print(a)\n",
    "\n",
    "lst = [chr(i) for i in a]\n",
    "print(lst)\n",
    "\n",
    "# 字符串的 join 方法可以将列表中的元素连接成一个字符串\n",
    "s = ''.join(lst)\n",
    "print(s)\n",
    "\n",
    "\n",
    "''.join([chr(ord(ch) + 32) for ch in s if ch >= 'A' and ch <= 'Z'])  # 转换为小写字母\n",
    "s.lower()  # 转换为小写字母\n"
   ]
  },
  {
   "cell_type": "code",
   "execution_count": 528,
   "metadata": {},
   "outputs": [
    {
     "name": "stdout",
     "output_type": "stream",
     "text": [
      "[True, True, True]\n",
      "[2448367626240, 2448367626240, 2448367626240]\n"
     ]
    }
   ],
   "source": [
    "vis = [[0] * 3] * 3 # [[0, 0, 0], [0, 0, 0], [0, 0, 0]]\n",
    "vis[0][0] = 1 # [[1, 0, 0], [1, 0, 0], [1, 0, 0]]\n",
    "\n",
    "\n",
    "a1 = [0, 0, 0]\n",
    "a2 = a1\n",
    "a3 = a1[:]\n",
    "a1[0] = 1 # a1 = [1, 0, 0], a2 = [1, 0, 0], a3 = [0, 0, 0]\n",
    "id(a1) == id(a2) and id(a1) != id(a3) # True\n",
    "\n",
    "vis2 = vis[:]\n",
    "vis[0][1] = 2 # vis = [[1, 2, 0], [1, 2, 0], [1, 2, 0]], vis2 = [[1, 2, 0], [1, 2, 0], [1, 2, 0]]， vis2 是切片拷贝还是被改了\n",
    "id(vis) != id(vis2) # True， vis2 虽然不是 vis 的引用，但其中对应行都指向相同的对象\n",
    "print([id(vis[i]) == id(vis2[i]) for i in range(3)])\n",
    "\n",
    "print([id(x) for x in vis])\n"
   ]
  },
  {
   "cell_type": "markdown",
   "metadata": {},
   "source": [
    "其实有一个重要的事实，Python 中赋值只传递了引用而非创建新值，你可以创建不同类型的变量并赋给新变量，验证发现二者的标识值是相同的，只不过直到现在我们才介绍了列表这一种可变类型，而给数字、字符串这样的不可变类型赋新值时实际上创建了新的对象，故而前后两个变量互不干扰。但列表是可变类型，所以我们修改一个列表的元素时，另一个列表由于指向同一个对象所以也被修改了。创建二维数组也是类似的情况，示例中用乘法创建二维列表相当于把 [0]*3 这个一维列表重复了 3 遍，所以涉及其中一个列表的操作会同时影响其他两个列表。\n",
    "\n",
    "更不幸的是，在将二维列表赋给其他变量的时候，就算用切片来拷贝，也只是「浅拷贝」，其中的元素仍然指向相同的对象，解决这个问题需要使用标准库中的 deepcopy，或者尽量避免整个赋值二维列表。\n",
    "\n",
    "不过还好，创建二维列表时避免创建重复的列表还是比较简单，只需使用「列表推导式」："
   ]
  },
  {
   "cell_type": "code",
   "execution_count": 529,
   "metadata": {},
   "outputs": [
    {
     "name": "stdout",
     "output_type": "stream",
     "text": [
      "[2448367630272, 2448367620288, 2448367626304]\n"
     ]
    }
   ],
   "source": [
    "vis1 = [[0] * 3 for _ in range(3)]\n",
    "print([id(x) for x in vis1])\n",
    "\n",
    "vis1[0][0] = 1 # [[1, 0, 0], [0, 0, 0], [0, 0, 0]]"
   ]
  },
  {
   "cell_type": "markdown",
   "metadata": {},
   "source": [
    "由于 Python 是高度动态的解释型语言，因此其程序运行有大量的额外开销。尤其是 for 循环在 Python 中运行的奇慢无比。因此在使用 Python 时若想获得高性能，尽量使用使用列表推导式，或者 filter,map 等内置函数直接操作整个序列来避免循环，当然这还是要根据具体问题而定。"
   ]
  },
  {
   "cell_type": "markdown",
   "metadata": {},
   "source": [
    "**numpy**"
   ]
  },
  {
   "cell_type": "code",
   "execution_count": 530,
   "metadata": {},
   "outputs": [
    {
     "name": "stdout",
     "output_type": "stream",
     "text": [
      "[4.24399158e-314 0.00000000e+000 0.00000000e+000]\n",
      "[[0. 0. 0.]\n",
      " [0. 0. 0.]]\n",
      "[[0 0 0]\n",
      " [0 0 0]\n",
      " [0 0 0]]\n",
      "[[1 2 0]\n",
      " [0 0 0]\n",
      " [0 0 0]]\n",
      "[[1 2 0]\n",
      " [0 0 0]]\n",
      "[1 2 0 0 0 0 0 0 0]\n",
      "[[0 1 2]\n",
      " [0 0 0]\n",
      " [0 0 0]]\n"
     ]
    }
   ],
   "source": [
    "import numpy as np\n",
    "\n",
    "print(np.empty(3))\n",
    "print(np.zeros((2, 3)))\n",
    "\n",
    "a = np.zeros((3, 3), dtype=int)\n",
    "print(a)\n",
    "\n",
    "a[0, 0] = 1\n",
    "a[0][1] = 2\n",
    "print(a)\n",
    "\n",
    "print(a[:2, :3])\n",
    "\n",
    "print(a.flatten())\n",
    "\n",
    "print(np.sort(a, axis = 1)) # 沿行方向对数组进行排序，返回排序结果\n",
    "\n",
    "a.sort(axis = 0) # 沿列方向对数组进行原地排序\n"
   ]
  },
  {
   "cell_type": "markdown",
   "metadata": {},
   "source": [
    "Python 和 C 在代码风格上的重大差异：首先，Python 中不用 {} 而是用缩进表示块结构，如果缩进没有对齐会直接报错，如果 tab 和 空格混用也会报错；其次，块结构开始的地方比如 if 和 for 语句的行末要有冒号 :"
   ]
  },
  {
   "cell_type": "markdown",
   "metadata": {},
   "source": [
    "**异常处理**\n",
    "\n",
    "C++ 中有 try 块 用于异常处理\n",
    "\n",
    "Python 中常见的是 EAFP 风格，故而代码中可能大量使用 try-except 语句"
   ]
  },
  {
   "cell_type": "code",
   "execution_count": 531,
   "metadata": {},
   "outputs": [
    {
     "name": "stdout",
     "output_type": "stream",
     "text": [
      "没找到\n",
      "无法输出 y\n",
      "原因: name 'y' is not defined\n"
     ]
    }
   ],
   "source": [
    "s = \"OI-wiki\"\n",
    "pat = \"NOIP\"\n",
    "x = s.find(pat)  # find() 找不到返回 -1\n",
    "try:\n",
    "    y = s.index(pat)  # index() 找不到则抛出错误\n",
    "    print(y)  # 这句被跳过\n",
    "except ValueError:\n",
    "    print(\"没找到\")\n",
    "    try:\n",
    "        print(y)  # 此时 y 并没有定义，故又会抛出错误\n",
    "    except NameError as e:\n",
    "        print(\"无法输出 y\")\n",
    "        print(\"原因:\", e)"
   ]
  },
  {
   "cell_type": "markdown",
   "metadata": {},
   "source": [
    "**文件读写**\n",
    "\n",
    "Python 内置函数 open() 用于文件读写，为了防止读写过程中出错导致文件未被正常关闭，这里只介绍使用 with 语句的安全读写方法："
   ]
  },
  {
   "cell_type": "code",
   "execution_count": 532,
   "metadata": {},
   "outputs": [],
   "source": [
    "# a = []\n",
    "# with open(\"in.txt\") as f:\n",
    "#     N = int(f.readline())  # 读入第一行的 N\n",
    "#     a[len(a) :] = [[int(x) for x in f.readline().split()] for i in range(N)]\n",
    "#     print(a)\n",
    "\n",
    "# with open(\"out.txt\", \"w\") as f:\n",
    "#     f.write(\"1\\n\")"
   ]
  },
  {
   "cell_type": "markdown",
   "metadata": {},
   "source": [
    "**内置容器**\n",
    "\n",
    "元组可以简单理解成不可变的列表，不过还需注意「不可变」的内涵，如果元组中的某元素是可变类型比如列表，那么仍可以修改该列表的值，元组中存放的是对列表的引用所以元组本身并没有改变。元组的优点是开销较小且「可哈希」，后者在创建字典和集合时非常有用。"
   ]
  },
  {
   "cell_type": "code",
   "execution_count": 533,
   "metadata": {},
   "outputs": [
    {
     "name": "stdout",
     "output_type": "stream",
     "text": [
      "([1, 2, 4], 3)\n",
      "140712725780920 2450278306640\n",
      "2450278306640 140712725780920\n"
     ]
    }
   ],
   "source": [
    "tup = tuple([[1, 2], 3])\n",
    "tup[0].append(4)\n",
    "print(tup)\n",
    "\n",
    "a, b = 1, \"oiwiki\"\n",
    "print(id(a), id(b))\n",
    "\n",
    "b, a = a, b\n",
    "print(id(a), id(b)) # 变量更像是名字，赋值只是让其指代对象\n"
   ]
  },
  {
   "cell_type": "markdown",
   "metadata": {},
   "source": [
    "字典就像 C++ STL 中的 map（请注意和 Python 中内置函数 map() 区分）用于存储键值对，形式类似 JSON，但 JSON 中键必须是字符串且以双引号括住，字典则更加灵活强大，可哈希的对象都可作为字典的键。需要注意 Python 几次版本更新后字典的特性有了较多变化，包括其中元素的顺序等。"
   ]
  },
  {
   "cell_type": "code",
   "execution_count": 534,
   "metadata": {},
   "outputs": [
    {
     "name": "stdout",
     "output_type": "stream",
     "text": [
      "{'A': 65, 'B': 66, 'C': 67, 'D': 68, 'E': 69, 'F': 70, 'G': 71, 'H': 72, 'I': 73, 'J': 74, 'K': 75, 'L': 76, 'M': 77, 'N': 78, 'O': 79, 'P': 80, 'Q': 81, 'R': 82, 'S': 83, 'T': 84, 'U': 85, 'V': 86, 'W': 87, 'X': 88, 'Y': 89, 'Z': 90}\n",
      "{65: 'A', 66: 'B', 67: 'C', 68: 'D', 69: 'E', 70: 'F', 71: 'G', 72: 'H', 73: 'I', 74: 'J', 75: 'K', 76: 'L', 77: 'M', 78: 'N', 79: 'O', 80: 'P', 81: 'Q', 82: 'R', 83: 'S', 84: 'T', 85: 'U', 86: 'V', 87: 'W', 88: 'X', 89: 'Y', 90: 'Z'}\n",
      "{'A': 65, 'B': 66, 'C': 67, 'D': 68, 'E': 69, 'F': 70, 'G': 71, 'H': 72, 'I': 73, 'J': 74, 'K': 75, 'L': 76, 'M': 77, 'N': 78, 'O': 79, 'P': 80, 'Q': 81, 'R': 82, 'S': 83, 'T': 84, 'U': 85, 'V': 86, 'W': 87, 'X': 88, 'Y': 89, 'Z': 90}\n",
      "{'Z': 90, 'Y': 89, 'X': 88, 'W': 87, 'V': 86, 'U': 85, 'T': 84, 'S': 83, 'R': 82, 'Q': 81, 'P': 80, 'O': 79, 'N': 78, 'M': 77, 'L': 76, 'K': 75, 'J': 74, 'I': 73, 'H': 72, 'G': 71, 'F': 70, 'E': 69, 'D': 68, 'C': 67, 'B': 66, 'A': 65}\n",
      "65\n"
     ]
    }
   ],
   "source": [
    "dic = {\"key\": \"value\"}  # 基本形式\n",
    "\n",
    "dic = {chr(i): i for i in range(65, 91)}  # 大写字母到对应 ASCII 码的映射，注意断句\n",
    "print(dic)\n",
    "dic = dict(zip([chr(i) for i in range(65, 91)], range(65, 91)))  # 效果同上\n",
    "dic = {dic[k]: k for k in dic}  # 将键值对逆转，for k in dic 迭代其键\n",
    "print(dic)\n",
    "dic = {v: k for k, v in dic.items()}  # 和上行作用相同，dic.items() 以元组存放单个键值对\n",
    "print(dic)\n",
    "dic = {\n",
    "    k: v for k, v in sorted(dic.items(), key=lambda x: -x[1])\n",
    "}  # 字典按值逆排序，用到了 lambda 表达式\n",
    "print(dic)\n",
    "\n",
    "\n",
    "print(dic[\"A\"])  # 返回 dic 中 以 'A' 为键的项，这里值为65\n",
    "dic[\"a\"] = 97  # 将 d[key] 设为 value，字典中原无 key 就是直接插入\n",
    "if \"b\" in dic:  # LBYL(Look Before You Leap) 风格\n",
    "    print(dic[\"b\"])  # 若字典中无该键则会出错，故先检查\n",
    "else:\n",
    "    dic[\"b\"] = 98\n",
    "\n"
   ]
  },
  {
   "cell_type": "markdown",
   "metadata": {},
   "source": [
    "集合就像 C++ STL 中的 set，不会保存重复的元素，可以看成只保存键的字典。需要注意集合和字典都用 {} 括住，不过单用 {} 会创建空字典而不是空集合"
   ]
  },
  {
   "cell_type": "markdown",
   "metadata": {},
   "source": [
    "Python 中使用默认参数很有可能遇到坑"
   ]
  },
  {
   "cell_type": "code",
   "execution_count": 535,
   "metadata": {},
   "outputs": [
    {
     "name": "stdout",
     "output_type": "stream",
     "text": [
      "[12, 42] [12, 42]\n"
     ]
    }
   ],
   "source": [
    "def append_to(element, to=[]):\n",
    "    to.append(element)\n",
    "    return to\n",
    "\n",
    "\n",
    "lst1 = append_to(12)\n",
    "lst2 = append_to(42)\n",
    "print(lst1, lst2)\n",
    "\n",
    "# 你可能以为输出是 [12] [42]\n",
    "# 但运行结果其实是 [12， 42] [12， 42]\n",
    "# 原因是 append_to 函数的默认参数 to=[] 是一个空列表，当 append_to(12) 被调用时，to 被赋值为 [12]，\n",
    "# 而 append_to(42) 被调用时，to 仍然是 [12]，因此 to.append(42) 实际上是修改了 to 的第一个元素，\n"
   ]
  },
  {
   "cell_type": "code",
   "execution_count": 536,
   "metadata": {},
   "outputs": [
    {
     "name": "stdout",
     "output_type": "stream",
     "text": [
      "[12] [42]\n"
     ]
    }
   ],
   "source": [
    "# 这是因为默认参数的值仅仅在函数定义的时候赋值一次\n",
    "# 默认参数的值应该是不可变对象，使用 None 占位是一种最佳实践\n",
    "def append_to(element, to=None):\n",
    "    if to is None:\n",
    "        to = []\n",
    "    to.append(element)\n",
    "    return to\n",
    "\n",
    "lst1 = append_to(12)\n",
    "lst2 = append_to(42)\n",
    "print(lst1, lst2)"
   ]
  },
  {
   "cell_type": "markdown",
   "metadata": {},
   "source": [
    "**类型标注**\n",
    "\n",
    "Python 是一个动态类型检查的语言，以灵活但隐式的方式处理类型，Python 解释器仅仅在运行时检查类型是否正确，并且允许在运行时改变变量类型，俗话说「动态类型一时爽，代码重构火葬场」，程序中的一些错误可能在运行时才会暴露："
   ]
  },
  {
   "cell_type": "code",
   "execution_count": 539,
   "metadata": {},
   "outputs": [
    {
     "name": "stdout",
     "output_type": "stream",
     "text": [
      "3\n"
     ]
    }
   ],
   "source": [
    "if False:\n",
    "    print(1 + \"two\")  # This line never runs, so no TypeError is raised\n",
    "else:\n",
    "    print(1 + 2)"
   ]
  },
  {
   "cell_type": "markdown",
   "metadata": {},
   "source": [
    "除了函数参数，变量也是可以类型标注的，你可以通过调用 __annotations__ 来查看函数中所有的类型标注。变量类型标注赋予了 Python 静态语言的性质，即声明与赋值分离："
   ]
  },
  {
   "cell_type": "code",
   "execution_count": 538,
   "metadata": {},
   "outputs": [
    {
     "data": {
      "text/plain": [
       "{'nothing': str}"
      ]
     },
     "execution_count": 538,
     "metadata": {},
     "output_type": "execute_result"
    }
   ],
   "source": [
    "__annotations__"
   ]
  },
  {
   "cell_type": "markdown",
   "metadata": {},
   "source": [
    "**装饰器**\n",
    "\n",
    "装饰器是一个函数，接受一个函数或方法作为其唯一的参数，并返回一个新函数或方法，其中整合了修饰后的函数或方法，并附带了一些额外的功能。简而言之，可以在不修改函数代码的情况下，增加函数的功能。相关知识可以参考 官方文档。\n",
    "\n",
    "比如 lru_cache，可以为函数自动增加记忆化的能力，在递归算法中非常实用：\n",
    "\n",
    "`@lru_cache(maxsize=128,typed=False)`\n",
    "\n",
    "传入的参数有 2 个：maxsize 和 typed，如果不传则 maxsize 的默认值为 128，typed 的默认值为 False。\n",
    "\n",
    "其中 maxsize 参数表示的是 LRU 缓存的容量，即被装饰的方法的最大可缓存结果的数量。如果该参数值为 128，则表示被装饰方法最多可缓存 128 个返回结果；如果 maxsize 传入为 None 则表示可以缓存无限个结果。\n",
    "\n",
    "如果 typed 设置为 True，不同类型的函数参数将被分别缓存，例如，f(3) 和 f(3.0) 会缓存两次。\n",
    "\n",
    "以下是使用 lru_cache 优化计算斐波那契数列的例子：\n"
   ]
  },
  {
   "cell_type": "code",
   "execution_count": 541,
   "metadata": {},
   "outputs": [
    {
     "name": "stdout",
     "output_type": "stream",
     "text": [
      "55\n"
     ]
    }
   ],
   "source": [
    "from functools import lru_cache\n",
    "\n",
    "\n",
    "@lru_cache(maxsize=None)\n",
    "def fib(n):\n",
    "    if n < 2:\n",
    "        return n\n",
    "    return fib(n - 1) + fib(n - 2)\n",
    "\n",
    "print(fib(10))"
   ]
  },
  {
   "cell_type": "markdown",
   "metadata": {},
   "source": [
    "**常用内置库**\n",
    "\n",
    "在这里介绍一些写算法可能用得到的内置库，具体用法可以自行搜索或者阅读 [官方文档](https://docs.python.org/3/library/index.html)。\n",
    "\n",
    "| 库名                                                         | 用途                         |\n",
    "| :----------------------------------------------------------- | :--------------------------- |\n",
    "| [`array`](https://docs.python.org/3/library/array.html)      | 定长数组                     |\n",
    "| [`argparse`](https://docs.python.org/3/library/argparse.html) | 命令行参数处理               |\n",
    "| [`bisect`](https://docs.python.org/3/library/bisect.html)    | 二分查找                     |\n",
    "| [`collections`](https://docs.python.org/3/library/collections.html) | 有序字典、双端队列等数据结构 |\n",
    "| [`fractions`](https://docs.python.org/3/library/fractions.html) | 有理数                       |\n",
    "| [`heapq`](https://docs.python.org/3/library/heapq.html)      | 基于堆的优先级队列           |\n",
    "| [`io`](https://docs.python.org/3/library/io.html)            | 文件流、内存流               |\n",
    "| [`itertools`](https://docs.python.org/3/library/itertools.html) | 迭代器                       |\n",
    "| [`math`](https://docs.python.org/3/library/math.html)        | 数学函数                     |\n",
    "| [`os.path`](https://docs.python.org/3/library/os.html)       | 系统路径等                   |\n",
    "| [`random`](https://docs.python.org/3/library/random.html)    | 随机数                       |\n",
    "| [`re`](https://docs.python.org/3/library/re.html)            | 正则表达式                   |\n",
    "| [`struct`](https://docs.python.org/3/library/struct.html)    | 转换结构体和二进制数据       |\n",
    "| [`sys`](https://docs.python.org/3/library/sys.html)          | 系统信息                     |"
   ]
  },
  {
   "cell_type": "markdown",
   "metadata": {},
   "source": [
    "**生成器**\n",
    "\n",
    "在Python中，有一种一边循环一边计算的机制，称为生成器：`generator`，可以节省浪费的存储空间"
   ]
  }
 ],
 "metadata": {
  "kernelspec": {
   "display_name": "Python 3",
   "language": "python",
   "name": "python3"
  },
  "language_info": {
   "codemirror_mode": {
    "name": "ipython",
    "version": 3
   },
   "file_extension": ".py",
   "mimetype": "text/x-python",
   "name": "python",
   "nbconvert_exporter": "python",
   "pygments_lexer": "ipython3",
   "version": "3.12.3"
  }
 },
 "nbformat": 4,
 "nbformat_minor": 2
}
